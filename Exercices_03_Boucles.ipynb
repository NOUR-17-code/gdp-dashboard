{
  "nbformat": 4,
  "nbformat_minor": 0,
  "metadata": {
    "kernelspec": {
      "display_name": "Python 3",
      "language": "python",
      "name": "python3"
    },
    "language_info": {
      "codemirror_mode": {
        "name": "ipython",
        "version": 3
      },
      "file_extension": ".py",
      "mimetype": "text/x-python",
      "name": "python",
      "nbconvert_exporter": "python",
      "pygments_lexer": "ipython3",
      "version": "3.7.3"
    },
    "colab": {
      "name": "Exercices_03_Boucles.ipynb",
      "provenance": [],
      "include_colab_link": true
    }
  },
  "cells": [
    {
      "cell_type": "markdown",
      "metadata": {
        "id": "view-in-github",
        "colab_type": "text"
      },
      "source": [
        "<a href=\"https://colab.research.google.com/github/NOUR-17-code/gdp-dashboard/blob/main/Exercices_03_Boucles.ipynb\" target=\"_parent\"><img src=\"https://colab.research.google.com/assets/colab-badge.svg\" alt=\"Open In Colab\"/></a>"
      ]
    },
    {
      "cell_type": "markdown",
      "metadata": {
        "id": "LPINvDFo9Nce"
      },
      "source": [
        "\n",
        "# <center> <b> <span style=\"color:orange;\"> Programmation Python pratique </span> </b></center>\n",
        "\n",
        "### <center> <b> <span style=\"color:green;\">Travaux Pratiques</span> </b></center>\n",
        "\n",
        "\n",
        "****\n",
        "\n",
        "## <center> <b> <span style=\"color:blue;\"> Boucles </span> </b></center>"
      ]
    },
    {
      "cell_type": "code",
      "metadata": {
        "id": "MpygWA8P9Ncl"
      },
      "source": [],
      "execution_count": null,
      "outputs": []
    },
    {
      "cell_type": "markdown",
      "metadata": {
        "id": "0vAKMUYl9Nc1"
      },
      "source": [
        "#### Exercice 0\n",
        ">On se propose de résoudre dans l'ensemble des entiers naturels l'inéquation $2n(n+1)<100$.\n",
        "En utilisant une boucle **While**, écris un programme qui renvoie les solutions entières de cette inéquation."
      ]
    },
    {
      "cell_type": "code",
      "metadata": {
        "id": "tnXJLyHA9Nc4",
        "colab": {
          "base_uri": "https://localhost:8080/"
        },
        "outputId": "07672560-8808-432a-f521-b8c704662fb5"
      },
      "source": [
        "n = 0\n",
        "while 2 * n * (n+1) < 100:\n",
        "    print(n)\n",
        "    n += 1"
      ],
      "execution_count": 1,
      "outputs": [
        {
          "output_type": "stream",
          "name": "stdout",
          "text": [
            "0\n",
            "1\n",
            "2\n",
            "3\n",
            "4\n",
            "5\n",
            "6\n"
          ]
        }
      ]
    },
    {
      "cell_type": "markdown",
      "metadata": {
        "id": "USaieP9c9Nc5"
      },
      "source": [
        "#### Exercice 1\n",
        "> En utilisant une boucle **For**, écris un programme qui calcule la somme des 30 premiers entiers naturels non nuls."
      ]
    },
    {
      "cell_type": "code",
      "metadata": {
        "id": "-a76WFyH9Nc7",
        "colab": {
          "base_uri": "https://localhost:8080/"
        },
        "outputId": "53e25d56-bf51-4f78-aa9f-e9d6e4a6bc82"
      },
      "source": [
        "Somme = 0\n",
        "i = 1\n",
        "while i <= 30:\n",
        "    Somme += i\n",
        "    i += 1\n",
        "print(Somme)"
      ],
      "execution_count": 2,
      "outputs": [
        {
          "output_type": "stream",
          "name": "stdout",
          "text": [
            "465\n"
          ]
        }
      ]
    },
    {
      "cell_type": "markdown",
      "metadata": {
        "id": "_070Czs09Nc8"
      },
      "source": [
        "#### Exercice 2\n",
        ">Refais l'exercice 1 en utilisant une boucle **While**."
      ]
    },
    {
      "cell_type": "code",
      "metadata": {
        "id": "m7dg2bhR9Nc9",
        "colab": {
          "base_uri": "https://localhost:8080/"
        },
        "outputId": "6dd68550-3c2f-454b-eb2d-19ba70f64c9c"
      },
      "source": [
        "s = 0\n",
        "for i in range (1,31):\n",
        "    s = s + i\n",
        "print(s)"
      ],
      "execution_count": 3,
      "outputs": [
        {
          "output_type": "stream",
          "name": "stdout",
          "text": [
            "465\n"
          ]
        }
      ]
    },
    {
      "cell_type": "markdown",
      "metadata": {
        "id": "Hg1vBggc9Nc_"
      },
      "source": [
        "#### Exercice 3\n",
        ">En utilisant une boucle **For**, écris un programme qui calcule le produit des 9 premiers entiers naturels non nuls."
      ]
    },
    {
      "cell_type": "code",
      "metadata": {
        "id": "h0TkyvqS9NdB",
        "colab": {
          "base_uri": "https://localhost:8080/"
        },
        "outputId": "b7d10ed3-4356-4a79-d16e-ad69cce777f4"
      },
      "source": [
        "Produit = 1\n",
        "for i in range (1,10):\n",
        "    Produit *= i\n",
        "print(\"le produit est:\",Produit)"
      ],
      "execution_count": 4,
      "outputs": [
        {
          "output_type": "stream",
          "name": "stdout",
          "text": [
            "le produit est: 362880\n"
          ]
        }
      ]
    },
    {
      "cell_type": "markdown",
      "metadata": {
        "id": "a2iZm5y_9NdD"
      },
      "source": [
        "#### Exercice 4\n",
        "> Refais l'exercice 3 en utilisant une boucle **While**."
      ]
    },
    {
      "cell_type": "code",
      "source": [
        "Produit = 1\n",
        "i = 1\n",
        "while i <= 9:\n",
        "    Produit *= i\n",
        "    i += 1\n",
        "print(Produit)"
      ],
      "metadata": {
        "colab": {
          "base_uri": "https://localhost:8080/"
        },
        "id": "6lYGreKrt---",
        "outputId": "3ea070a5-cd14-4c67-8249-119259aa278a"
      },
      "execution_count": 7,
      "outputs": [
        {
          "output_type": "stream",
          "name": "stdout",
          "text": [
            "362880\n"
          ]
        }
      ]
    },
    {
      "cell_type": "markdown",
      "metadata": {
        "id": "rb3k7Bve9NdE"
      },
      "source": [
        "#### Exercice 5\n",
        ">Écris un programme qui demande à l'utilisateur de saisir un nombre n et qui affiche tous les nombres pairs de $1$ à $n$ en utilisant la boucle **For**."
      ]
    },
    {
      "cell_type": "code",
      "metadata": {
        "id": "ibXs9RCB9NdF",
        "colab": {
          "base_uri": "https://localhost:8080/"
        },
        "outputId": "1669aea0-ffa1-46db-cb76-71615ca12924"
      },
      "source": [
        "n=int(input(\"ecrire un nombre: \"))\n",
        "for i in range (1,n+1):\n",
        "      if  i%2==0:\n",
        "          print(\"le nombre est pair\",i)"
      ],
      "execution_count": 11,
      "outputs": [
        {
          "output_type": "stream",
          "name": "stdout",
          "text": [
            "ecrire un nombre: 4\n",
            "le nombre est pair 2\n",
            "le nombre est pair 4\n"
          ]
        }
      ]
    },
    {
      "cell_type": "markdown",
      "metadata": {
        "id": "HPC3bfyE9NdG"
      },
      "source": [
        "#### Exercice 6\n",
        ">Refais l'exercice 5 en utilisant la boucle **While**."
      ]
    },
    {
      "cell_type": "code",
      "metadata": {
        "id": "dRuTyo3m9NdH",
        "colab": {
          "base_uri": "https://localhost:8080/"
        },
        "outputId": "bfe229ad-abe5-487c-c78c-4dd7ffa95524"
      },
      "source": [
        "n=int(input(\"ecrire un nombre: \"))\n",
        "i = 1\n",
        "while i <= n:\n",
        "    if i % 2 == 0:\n",
        "        print(\"pair\",i)\n",
        "    i += 1"
      ],
      "execution_count": 10,
      "outputs": [
        {
          "output_type": "stream",
          "name": "stdout",
          "text": [
            "ecrire un nombre: 4\n",
            "pair 2\n",
            "pair 4\n"
          ]
        }
      ]
    },
    {
      "cell_type": "markdown",
      "metadata": {
        "id": "6fNPIIdQ9NdH"
      },
      "source": [
        "#### Exercice 7\n",
        ">Écris un programme qui demande à l'utilisateur de saisir un nombre n et qui affiche tous les nombres impairs de 1 à n en utilisant la boucle **For**."
      ]
    },
    {
      "cell_type": "code",
      "metadata": {
        "id": "LuVEv9Lc9NdI",
        "colab": {
          "base_uri": "https://localhost:8080/"
        },
        "outputId": "a2e30aba-03f3-4ff9-d463-33d1e9a29392"
      },
      "source": [
        "n=int(input(\"saisir un nombre\"))\n",
        "for i in range (1,n+1):\n",
        "    if i%2!=0:\n",
        "        print(\"le nombre est impair\",i)"
      ],
      "execution_count": 12,
      "outputs": [
        {
          "output_type": "stream",
          "name": "stdout",
          "text": [
            "saisir un nombre3\n",
            "le nombre est impair 1\n",
            "le nombre est impair 3\n"
          ]
        }
      ]
    },
    {
      "cell_type": "markdown",
      "metadata": {
        "id": "HIlapsJ89NdK"
      },
      "source": [
        "#### Exercice 8\n",
        ">Refais l'exercice 7 en utilisant la boucle **While**.\n",
        "\n"
      ]
    },
    {
      "cell_type": "code",
      "metadata": {
        "id": "Igvjeb2E9NdM",
        "colab": {
          "base_uri": "https://localhost:8080/"
        },
        "outputId": "7141e67a-6f61-4d13-be65-90476c358a08"
      },
      "source": [
        "n=int(input(\"saisir un nombre: \"))\n",
        "i=1\n",
        "while i <= n:\n",
        "    if i % 2 != 0:\n",
        "        print(\"impair\",i)\n",
        "    i += 1"
      ],
      "execution_count": 14,
      "outputs": [
        {
          "output_type": "stream",
          "name": "stdout",
          "text": [
            "saisir un nombre: 3\n",
            "impair 1\n",
            "impair 3\n"
          ]
        }
      ]
    },
    {
      "cell_type": "markdown",
      "metadata": {
        "id": "KOYLg_e79NdU"
      },
      "source": [
        "#### Exercice 9\n",
        ">Écris un programme qui demande à l'utilisateur de saisir un nombre n et qui affiche sa table de multiplication  en utilisant la boucle **For**."
      ]
    },
    {
      "cell_type": "code",
      "metadata": {
        "id": "BvOU9oLw9NdU",
        "colab": {
          "base_uri": "https://localhost:8080/"
        },
        "outputId": "56595b0f-1dc7-416d-9594-9f02cddf3065"
      },
      "source": [
        "n=int(input(\"saisir un nombre: \"))\n",
        "for i in range (1,11):\n",
        "    print(n,\"x\",i,\"=\",n*i)"
      ],
      "execution_count": 15,
      "outputs": [
        {
          "output_type": "stream",
          "name": "stdout",
          "text": [
            "saisir un nombre: 6\n",
            "6 x 1 = 6\n",
            "6 x 2 = 12\n",
            "6 x 3 = 18\n",
            "6 x 4 = 24\n",
            "6 x 5 = 30\n",
            "6 x 6 = 36\n",
            "6 x 7 = 42\n",
            "6 x 8 = 48\n",
            "6 x 9 = 54\n",
            "6 x 10 = 60\n"
          ]
        }
      ]
    },
    {
      "cell_type": "markdown",
      "metadata": {
        "id": "Ukzy78L09NdV"
      },
      "source": [
        "#### Exercice 10\n",
        ">Refais l'exercice 9 en utilisant la boucle **While**."
      ]
    },
    {
      "cell_type": "code",
      "metadata": {
        "id": "fRJ3oufC9NdV",
        "colab": {
          "base_uri": "https://localhost:8080/"
        },
        "outputId": "87de5e99-c6c3-463f-8e00-ab2e23c69232"
      },
      "source": [
        "n=int(input(\"saisir un nombre: \"))\n",
        "i=1\n",
        "while i<= 10:\n",
        "    print(n,\"x\",i,\"=\",n*i)\n",
        "    i += 1"
      ],
      "execution_count": 16,
      "outputs": [
        {
          "output_type": "stream",
          "name": "stdout",
          "text": [
            "saisir un nombre: 6\n",
            "6 x 1 = 6\n",
            "6 x 2 = 12\n",
            "6 x 3 = 18\n",
            "6 x 4 = 24\n",
            "6 x 5 = 30\n",
            "6 x 6 = 36\n",
            "6 x 7 = 42\n",
            "6 x 8 = 48\n",
            "6 x 9 = 54\n",
            "6 x 10 = 60\n"
          ]
        }
      ]
    },
    {
      "cell_type": "markdown",
      "metadata": {
        "id": "AQW435Hq9NdW"
      },
      "source": [
        "#### Exercice 11\n",
        ">Écris un programme qui demande à l'utilisateur d'entrer un nombre et de trouver tous ses diviseurs  en utilisant la boucle **For**."
      ]
    },
    {
      "cell_type": "code",
      "metadata": {
        "id": "Zjs_NfT89NdX",
        "colab": {
          "base_uri": "https://localhost:8080/"
        },
        "outputId": "bee2cece-2311-45e0-f899-bb8914c156eb"
      },
      "source": [
        "n=int(input(\"saisir un nombre: \"))\n",
        "print(\"les diviseurs de {n} sont: \")\n",
        "for i in range (1,n+1):\n",
        "    if n% i == 0:\n",
        "        print(i)"
      ],
      "execution_count": 17,
      "outputs": [
        {
          "output_type": "stream",
          "name": "stdout",
          "text": [
            "saisir un nombre: 7\n",
            "les diviseurs de {n} sont: \n",
            "1\n",
            "7\n"
          ]
        }
      ]
    },
    {
      "cell_type": "markdown",
      "metadata": {
        "id": "pGp6labk9NdX"
      },
      "source": [
        "#### Exercice 12\n",
        ">Écris un programme qui demande à l'utilisateur d'entrer un entier naturel n et de trouver tous sa factorielle n!  en utilisant la boucle **For**. On rappelle que $n!=n*(n-1)*(n-2)...3*2*1$."
      ]
    },
    {
      "cell_type": "code",
      "metadata": {
        "id": "iDw3TKDU9NdX",
        "colab": {
          "base_uri": "https://localhost:8080/"
        },
        "outputId": "81d39ca0-eb25-4cb9-a08d-30f5a6ed1c3a"
      },
      "source": [
        "n=int(input(\"saisir un nombre entier naturel: \"))\n",
        "F=1\n",
        "for i in range (1,n+1):\n",
        "    F=F*i\n",
        "    i+=1\n",
        "print(\"Le factorielle de\", n ,\"est:\", F)"
      ],
      "execution_count": 18,
      "outputs": [
        {
          "output_type": "stream",
          "name": "stdout",
          "text": [
            "saisir un nombre entier naturel: 8\n",
            "Le factorielle de 8 est: 40320\n"
          ]
        }
      ]
    },
    {
      "cell_type": "markdown",
      "metadata": {
        "id": "eyKh1oTo9NdY"
      },
      "source": [
        "#### Exercice 13\n",
        ">Écris un programme qui demande à l'utilisateur d'entrer deux entiers naturels (plus petits que 15) et de trouver leur plus petit commun multiple utilisant la boucle **For**."
      ]
    },
    {
      "cell_type": "code",
      "metadata": {
        "id": "ombGnLVQ9NdY",
        "colab": {
          "base_uri": "https://localhost:8080/"
        },
        "outputId": "d5a381a6-be1e-4757-bd10-348e038ee286"
      },
      "source": [
        "x=int(input(\"saisir un nombre entier naturel<15: \"))\n",
        "y=int(input(\"saisir un nombre entier naturel <15: \"))\n",
        "if 0<x<15 and 0<y<15:\n",
        " for i in range (max(x,y),(x*y)+1):\n",
        "    if i%x==0 and i%y==0:\n",
        "        PPCM = i\n",
        "        break\n",
        " print(\"Le plus petit commun multiple de\",x,\"et\",y,\"est:\",PPCM)\n",
        "else:\n",
        "    print(\"Error\")"
      ],
      "execution_count": 19,
      "outputs": [
        {
          "output_type": "stream",
          "name": "stdout",
          "text": [
            "saisir un nombre entier naturel<15: 14\n",
            "saisir un nombre entier naturel <15: 13\n",
            "Le plus petit commun multiple de 14 et 13 est: 182\n"
          ]
        }
      ]
    },
    {
      "cell_type": "markdown",
      "metadata": {
        "id": "j4zO7-ak9NdZ"
      },
      "source": [
        "#### Exercice 14\n",
        ">Écris un programme pour afficher la série de Fibonacci jusqu'à n termes en utilisant une boucle."
      ]
    },
    {
      "cell_type": "markdown",
      "metadata": {
        "id": "_RBVFZdl9Nda"
      },
      "source": [
        "#### Exercice 15\n",
        ">Écris, en utilisant une boucle **For**, un programme pour afficher 5 fois de suite le message \"Python est un très bon langage de programmation\"."
      ]
    },
    {
      "cell_type": "code",
      "metadata": {
        "id": "5UknLOdY9NdZ"
      },
      "source": [],
      "execution_count": 21,
      "outputs": []
    },
    {
      "cell_type": "code",
      "metadata": {
        "id": "IA5dPbgd9Nda"
      },
      "source": [],
      "execution_count": null,
      "outputs": []
    },
    {
      "cell_type": "markdown",
      "metadata": {
        "id": "VUgurSg59Nda"
      },
      "source": [
        "#### Exercice 16\n",
        ">Écris, en utilisant une boucle **While**, un programme pour afficher 7 fois de suite le message \"A cette allure je finirai par tout abandonner pour la programmation\"."
      ]
    },
    {
      "cell_type": "code",
      "metadata": {
        "id": "TgE99bdh9Ndb"
      },
      "source": [],
      "execution_count": null,
      "outputs": []
    },
    {
      "cell_type": "markdown",
      "metadata": {
        "id": "DVgTXQRX9Ndb"
      },
      "source": [
        "#### Exercice 17\n",
        ">Écris, en utilisant une boucle **For**, un programme qui compte à l'envers de 10 à 0 puis qui affiche le message \"Partez\".\n"
      ]
    },
    {
      "cell_type": "code",
      "metadata": {
        "id": "w4L4KV6C9Ndc"
      },
      "source": [],
      "execution_count": null,
      "outputs": []
    },
    {
      "cell_type": "markdown",
      "metadata": {
        "id": "raJAaAd29Ndc"
      },
      "source": [
        "#### Exercice 18\n",
        ">Écris, en utilisant une boucle **For**, un programme qui affiche chaque élément d'une chaine de caractère."
      ]
    },
    {
      "cell_type": "code",
      "metadata": {
        "id": "wZv1gX4c9Ndd"
      },
      "source": [],
      "execution_count": null,
      "outputs": []
    },
    {
      "cell_type": "markdown",
      "metadata": {
        "id": "095_Dtoc9Ndf"
      },
      "source": [
        "#### Exercice 19\n",
        ">Écris, en utilisant une boucle **For**, un programme qui compte à l'envers de 10 à 0 puis qui affiche le message \"Partez\"."
      ]
    },
    {
      "cell_type": "code",
      "metadata": {
        "id": "MOV4pZzn9Ndg"
      },
      "source": [],
      "execution_count": null,
      "outputs": []
    },
    {
      "cell_type": "markdown",
      "metadata": {
        "id": "5sUU7dgJ9Ndh"
      },
      "source": [
        "<center> <b> <span style=\"color:orange;\"> 🎉 FÉLICITATIONS ! 🎉 </span> </b></center>"
      ]
    }
  ]
}